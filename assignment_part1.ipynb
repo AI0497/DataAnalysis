{
  "nbformat": 4,
  "nbformat_minor": 0,
  "metadata": {
    "colab": {
      "name": "Untitled1.ipynb",
      "provenance": [],
      "collapsed_sections": [],
      "authorship_tag": "ABX9TyMP1gkekaPyhoX8GmNqjRxl",
      "include_colab_link": true
    },
    "kernelspec": {
      "name": "python3",
      "display_name": "Python 3"
    },
    "language_info": {
      "name": "python"
    }
  },
  "cells": [
    {
      "cell_type": "markdown",
      "metadata": {
        "id": "view-in-github",
        "colab_type": "text"
      },
      "source": [
        "<a href=\"https://colab.research.google.com/github/AI0497/DataAnalysis/blob/main/Untitled1.ipynb\" target=\"_parent\"><img src=\"https://colab.research.google.com/assets/colab-badge.svg\" alt=\"Open In Colab\"/></a>"
      ]
    },
    {
      "cell_type": "code",
      "metadata": {
        "colab": {
          "base_uri": "https://localhost:8080/"
        },
        "id": "wgIH0xHSlljF",
        "outputId": "7cc1caea-046a-438c-ffa3-46d2aedbb338"
      },
      "source": [
        "!gsutil cp -r gs://nis-interview-task-data/data-analyst/appactivity/*.parquet ."
      ],
      "execution_count": 1,
      "outputs": [
        {
          "output_type": "stream",
          "name": "stdout",
          "text": [
            "Copying gs://nis-interview-task-data/data-analyst/appactivity/part-00000-21cd72ad-bc51-48ce-b5ad-75ec555d8e62-c000.gz.parquet...\n",
            "Copying gs://nis-interview-task-data/data-analyst/appactivity/part-00001-21cd72ad-bc51-48ce-b5ad-75ec555d8e62-c000.gz.parquet...\n",
            "Copying gs://nis-interview-task-data/data-analyst/appactivity/part-00002-21cd72ad-bc51-48ce-b5ad-75ec555d8e62-c000.gz.parquet...\n",
            "Copying gs://nis-interview-task-data/data-analyst/appactivity/part-00003-21cd72ad-bc51-48ce-b5ad-75ec555d8e62-c000.gz.parquet...\n",
            "| [4 files][885.0 MiB/885.0 MiB]   37.8 MiB/s                                   \n",
            "==> NOTE: You are performing a sequence of gsutil operations that may\n",
            "run significantly faster if you instead use gsutil -m cp ... Please\n",
            "see the -m section under \"gsutil help options\" for further information\n",
            "about when gsutil -m can be advantageous.\n",
            "\n",
            "Copying gs://nis-interview-task-data/data-analyst/appactivity/part-00004-21cd72ad-bc51-48ce-b5ad-75ec555d8e62-c000.gz.parquet...\n",
            "Copying gs://nis-interview-task-data/data-analyst/appactivity/part-00005-21cd72ad-bc51-48ce-b5ad-75ec555d8e62-c000.gz.parquet...\n",
            "Copying gs://nis-interview-task-data/data-analyst/appactivity/part-00006-21cd72ad-bc51-48ce-b5ad-75ec555d8e62-c000.gz.parquet...\n",
            "Copying gs://nis-interview-task-data/data-analyst/appactivity/part-00007-21cd72ad-bc51-48ce-b5ad-75ec555d8e62-c000.gz.parquet...\n",
            "Copying gs://nis-interview-task-data/data-analyst/appactivity/part-00008-21cd72ad-bc51-48ce-b5ad-75ec555d8e62-c000.gz.parquet...\n",
            "Copying gs://nis-interview-task-data/data-analyst/appactivity/part-00009-21cd72ad-bc51-48ce-b5ad-75ec555d8e62-c000.gz.parquet...\n",
            "Copying gs://nis-interview-task-data/data-analyst/appactivity/part-00010-21cd72ad-bc51-48ce-b5ad-75ec555d8e62-c000.gz.parquet...\n",
            "Copying gs://nis-interview-task-data/data-analyst/appactivity/part-00011-21cd72ad-bc51-48ce-b5ad-75ec555d8e62-c000.gz.parquet...\n",
            "Copying gs://nis-interview-task-data/data-analyst/appactivity/part-00012-21cd72ad-bc51-48ce-b5ad-75ec555d8e62-c000.gz.parquet...\n",
            "Copying gs://nis-interview-task-data/data-analyst/appactivity/part-00013-21cd72ad-bc51-48ce-b5ad-75ec555d8e62-c000.gz.parquet...\n",
            "Copying gs://nis-interview-task-data/data-analyst/appactivity/part-00014-21cd72ad-bc51-48ce-b5ad-75ec555d8e62-c000.gz.parquet...\n",
            "Copying gs://nis-interview-task-data/data-analyst/appactivity/part-00015-21cd72ad-bc51-48ce-b5ad-75ec555d8e62-c000.gz.parquet...\n",
            "Copying gs://nis-interview-task-data/data-analyst/appactivity/part-00016-21cd72ad-bc51-48ce-b5ad-75ec555d8e62-c000.gz.parquet...\n",
            "Copying gs://nis-interview-task-data/data-analyst/appactivity/part-00017-21cd72ad-bc51-48ce-b5ad-75ec555d8e62-c000.gz.parquet...\n",
            "Copying gs://nis-interview-task-data/data-analyst/appactivity/part-00018-21cd72ad-bc51-48ce-b5ad-75ec555d8e62-c000.gz.parquet...\n",
            "Copying gs://nis-interview-task-data/data-analyst/appactivity/part-00019-21cd72ad-bc51-48ce-b5ad-75ec555d8e62-c000.gz.parquet...\n",
            "Copying gs://nis-interview-task-data/data-analyst/appactivity/part-00020-21cd72ad-bc51-48ce-b5ad-75ec555d8e62-c000.gz.parquet...\n",
            "Copying gs://nis-interview-task-data/data-analyst/appactivity/part-00021-21cd72ad-bc51-48ce-b5ad-75ec555d8e62-c000.gz.parquet...\n",
            "Copying gs://nis-interview-task-data/data-analyst/appactivity/part-00022-21cd72ad-bc51-48ce-b5ad-75ec555d8e62-c000.gz.parquet...\n",
            "Copying gs://nis-interview-task-data/data-analyst/appactivity/part-00023-21cd72ad-bc51-48ce-b5ad-75ec555d8e62-c000.gz.parquet...\n",
            "Copying gs://nis-interview-task-data/data-analyst/appactivity/part-00024-21cd72ad-bc51-48ce-b5ad-75ec555d8e62-c000.gz.parquet...\n",
            "Copying gs://nis-interview-task-data/data-analyst/appactivity/part-00025-21cd72ad-bc51-48ce-b5ad-75ec555d8e62-c000.gz.parquet...\n",
            "Copying gs://nis-interview-task-data/data-analyst/appactivity/part-00026-21cd72ad-bc51-48ce-b5ad-75ec555d8e62-c000.gz.parquet...\n",
            "Copying gs://nis-interview-task-data/data-analyst/appactivity/part-00027-21cd72ad-bc51-48ce-b5ad-75ec555d8e62-c000.gz.parquet...\n",
            "Copying gs://nis-interview-task-data/data-analyst/appactivity/part-00028-21cd72ad-bc51-48ce-b5ad-75ec555d8e62-c000.gz.parquet...\n",
            "Copying gs://nis-interview-task-data/data-analyst/appactivity/part-00029-21cd72ad-bc51-48ce-b5ad-75ec555d8e62-c000.gz.parquet...\n",
            "Copying gs://nis-interview-task-data/data-analyst/appactivity/part-00030-21cd72ad-bc51-48ce-b5ad-75ec555d8e62-c000.gz.parquet...\n",
            "Copying gs://nis-interview-task-data/data-analyst/appactivity/part-00031-21cd72ad-bc51-48ce-b5ad-75ec555d8e62-c000.gz.parquet...\n",
            "Copying gs://nis-interview-task-data/data-analyst/appactivity/part-00032-21cd72ad-bc51-48ce-b5ad-75ec555d8e62-c000.gz.parquet...\n",
            "Copying gs://nis-interview-task-data/data-analyst/appactivity/part-00033-21cd72ad-bc51-48ce-b5ad-75ec555d8e62-c000.gz.parquet...\n",
            "Copying gs://nis-interview-task-data/data-analyst/appactivity/part-00034-21cd72ad-bc51-48ce-b5ad-75ec555d8e62-c000.gz.parquet...\n",
            "Copying gs://nis-interview-task-data/data-analyst/appactivity/part-00035-21cd72ad-bc51-48ce-b5ad-75ec555d8e62-c000.gz.parquet...\n",
            "Copying gs://nis-interview-task-data/data-analyst/appactivity/part-00036-21cd72ad-bc51-48ce-b5ad-75ec555d8e62-c000.gz.parquet...\n",
            "Copying gs://nis-interview-task-data/data-analyst/appactivity/part-00037-21cd72ad-bc51-48ce-b5ad-75ec555d8e62-c000.gz.parquet...\n",
            "Copying gs://nis-interview-task-data/data-analyst/appactivity/part-00038-21cd72ad-bc51-48ce-b5ad-75ec555d8e62-c000.gz.parquet...\n",
            "Copying gs://nis-interview-task-data/data-analyst/appactivity/part-00039-21cd72ad-bc51-48ce-b5ad-75ec555d8e62-c000.gz.parquet...\n",
            "Copying gs://nis-interview-task-data/data-analyst/appactivity/part-00040-21cd72ad-bc51-48ce-b5ad-75ec555d8e62-c000.gz.parquet...\n",
            "Copying gs://nis-interview-task-data/data-analyst/appactivity/part-00041-21cd72ad-bc51-48ce-b5ad-75ec555d8e62-c000.gz.parquet...\n",
            "Copying gs://nis-interview-task-data/data-analyst/appactivity/part-00042-21cd72ad-bc51-48ce-b5ad-75ec555d8e62-c000.gz.parquet...\n",
            "Copying gs://nis-interview-task-data/data-analyst/appactivity/part-00043-21cd72ad-bc51-48ce-b5ad-75ec555d8e62-c000.gz.parquet...\n",
            "Copying gs://nis-interview-task-data/data-analyst/appactivity/part-00044-21cd72ad-bc51-48ce-b5ad-75ec555d8e62-c000.gz.parquet...\n",
            "Copying gs://nis-interview-task-data/data-analyst/appactivity/part-00045-21cd72ad-bc51-48ce-b5ad-75ec555d8e62-c000.gz.parquet...\n",
            "Copying gs://nis-interview-task-data/data-analyst/appactivity/part-00046-21cd72ad-bc51-48ce-b5ad-75ec555d8e62-c000.gz.parquet...\n",
            "Copying gs://nis-interview-task-data/data-analyst/appactivity/part-00047-21cd72ad-bc51-48ce-b5ad-75ec555d8e62-c000.gz.parquet...\n",
            "Copying gs://nis-interview-task-data/data-analyst/appactivity/part-00048-21cd72ad-bc51-48ce-b5ad-75ec555d8e62-c000.gz.parquet...\n",
            "Copying gs://nis-interview-task-data/data-analyst/appactivity/part-00049-21cd72ad-bc51-48ce-b5ad-75ec555d8e62-c000.gz.parquet...\n",
            "| [50 files][ 10.8 GiB/ 10.8 GiB]   28.4 MiB/s                                  \n",
            "==> NOTE: You are performing a sequence of gsutil operations that may\n",
            "run significantly faster if you instead use gsutil -m cp ... Please\n",
            "see the -m section under \"gsutil help options\" for further information\n",
            "about when gsutil -m can be advantageous.\n",
            "\n",
            "\n",
            "Operation completed over 50 objects/10.8 GiB.                                    \n"
          ]
        }
      ]
    },
    {
      "cell_type": "code",
      "metadata": {
        "id": "ekA3SWBWoHd3"
      },
      "source": [
        "!apt-get install openjdk-8-jdk-headless -qq > /dev/null"
      ],
      "execution_count": 3,
      "outputs": []
    },
    {
      "cell_type": "code",
      "metadata": {
        "id": "N449y_owoXEC"
      },
      "source": [
        "!wget -q https://archive.apache.org/dist/spark/spark-3.0.0/spark-3.0.0-bin-hadoop3.2.tgz"
      ],
      "execution_count": 4,
      "outputs": []
    },
    {
      "cell_type": "code",
      "metadata": {
        "id": "L23Qxv3ooZ3V"
      },
      "source": [
        "!tar xf spark-3.0.0-bin-hadoop3.2.tgz"
      ],
      "execution_count": 5,
      "outputs": []
    },
    {
      "cell_type": "code",
      "metadata": {
        "id": "STYQDNKkoctU"
      },
      "source": [
        "!pip install -q findspark"
      ],
      "execution_count": 6,
      "outputs": []
    },
    {
      "cell_type": "code",
      "metadata": {
        "id": "2eHCv0QIpQS9"
      },
      "source": [
        "import os"
      ],
      "execution_count": 7,
      "outputs": []
    },
    {
      "cell_type": "code",
      "metadata": {
        "id": "iKD2ym8CpUbp"
      },
      "source": [
        "os.environ[\"JAVA_HOME\"] = \"/usr/lib/jvm/java-8-openjdk-amd64\"\n",
        "os.environ[\"SPARK_HOME\"] = \"/content/spark-3.0.0-bin-hadoop3.2\""
      ],
      "execution_count": 8,
      "outputs": []
    },
    {
      "cell_type": "code",
      "metadata": {
        "id": "tu6NL2ZepaDR"
      },
      "source": [
        "import findspark\n",
        "findspark.init()"
      ],
      "execution_count": 9,
      "outputs": []
    },
    {
      "cell_type": "code",
      "metadata": {
        "id": "xKDvxqKqpiz7"
      },
      "source": [
        "from pyspark.context import SparkContext\n",
        "from pyspark.sql.session import SparkSession\n",
        "sc = SparkContext('local')\n",
        "spark = SparkSession(sc)\n",
        "df = spark.read.parquet(\"/content/*.gz.parquet\") "
      ],
      "execution_count": 11,
      "outputs": []
    },
    {
      "cell_type": "code",
      "metadata": {
        "colab": {
          "base_uri": "https://localhost:8080/"
        },
        "id": "jAOyebM9pvsB",
        "outputId": "1cde09cf-35fc-4081-a306-06cdf5a3eff0"
      },
      "source": [
        "# exploring the file schema\n",
        "df.printSchema()"
      ],
      "execution_count": 30,
      "outputs": [
        {
          "output_type": "stream",
          "name": "stdout",
          "text": [
            "root\n",
            " |-- author: string (nullable = true)\n",
            " |-- timestamp: long (nullable = true)\n",
            " |-- user: string (nullable = true)\n",
            " |-- news: string (nullable = true)\n",
            " |-- event: string (nullable = true)\n",
            " |-- source: string (nullable = true)\n",
            " |-- model: string (nullable = true)\n",
            " |-- timespent: float (nullable = true)\n",
            " |-- eventdate: string (nullable = true)\n",
            "\n"
          ]
        }
      ]
    },
    {
      "cell_type": "code",
      "metadata": {
        "id": "_u8QN1IaiD4J"
      },
      "source": [
        "df.registerTempTable(\"news\")\n",
        "# createTempView"
      ],
      "execution_count": 14,
      "outputs": []
    },
    {
      "cell_type": "code",
      "metadata": {
        "id": "aHkEz4CnsdUg"
      },
      "source": [
        "from pyspark.sql import SQLContext\n",
        "sqlContext = SQLContext(sc)"
      ],
      "execution_count": 16,
      "outputs": []
    },
    {
      "cell_type": "code",
      "metadata": {
        "id": "fmSNK1rvefFu"
      },
      "source": [
        "#Metric1 : Avg Time spent per news\n",
        "timeSpentPerNews=df.groupBy('news').agg({'timespent': 'mean'}).count()"
      ],
      "execution_count": null,
      "outputs": []
    },
    {
      "cell_type": "code",
      "metadata": {
        "id": "XOGZE84XwQVS"
      },
      "source": [
        "#registering the dataFrame to a temp table\n",
        "temp=sqlContext.sql(\"select count(*) from news\")"
      ],
      "execution_count": 17,
      "outputs": []
    },
    {
      "cell_type": "code",
      "metadata": {
        "id": "9o3G5HiWtD8F"
      },
      "source": [
        "#top 20 user as per their usage\n",
        "timeSpentPerUser=sqlContext.sql(\"select user,AVG(timespent) from news group by 1 order by 2 desc limit 20\")"
      ],
      "execution_count": null,
      "outputs": []
    },
    {
      "cell_type": "code",
      "metadata": {
        "colab": {
          "base_uri": "https://localhost:8080/",
          "height": 549
        },
        "id": "DM5JSlHruCKy",
        "outputId": "7902e32c-211a-43f0-ed0c-cf8173094302"
      },
      "source": [
        "import pandas as pd\n",
        "print('Data overview')\n",
        "df.printSchema()\n",
        "print('Columns overview')\n",
        "pd.DataFrame(df.dtypes, columns = ['Column Name','Data type'])"
      ],
      "execution_count": 35,
      "outputs": [
        {
          "output_type": "stream",
          "name": "stdout",
          "text": [
            "Data overview\n",
            "root\n",
            " |-- author: string (nullable = true)\n",
            " |-- timestamp: long (nullable = true)\n",
            " |-- user: string (nullable = true)\n",
            " |-- news: string (nullable = true)\n",
            " |-- event: string (nullable = true)\n",
            " |-- source: string (nullable = true)\n",
            " |-- model: string (nullable = true)\n",
            " |-- timespent: float (nullable = true)\n",
            " |-- eventdate: string (nullable = true)\n",
            "\n",
            "Columns overview\n"
          ]
        },
        {
          "output_type": "execute_result",
          "data": {
            "text/html": [
              "<div>\n",
              "<style scoped>\n",
              "    .dataframe tbody tr th:only-of-type {\n",
              "        vertical-align: middle;\n",
              "    }\n",
              "\n",
              "    .dataframe tbody tr th {\n",
              "        vertical-align: top;\n",
              "    }\n",
              "\n",
              "    .dataframe thead th {\n",
              "        text-align: right;\n",
              "    }\n",
              "</style>\n",
              "<table border=\"1\" class=\"dataframe\">\n",
              "  <thead>\n",
              "    <tr style=\"text-align: right;\">\n",
              "      <th></th>\n",
              "      <th>Column Name</th>\n",
              "      <th>Data type</th>\n",
              "    </tr>\n",
              "  </thead>\n",
              "  <tbody>\n",
              "    <tr>\n",
              "      <th>0</th>\n",
              "      <td>author</td>\n",
              "      <td>string</td>\n",
              "    </tr>\n",
              "    <tr>\n",
              "      <th>1</th>\n",
              "      <td>timestamp</td>\n",
              "      <td>bigint</td>\n",
              "    </tr>\n",
              "    <tr>\n",
              "      <th>2</th>\n",
              "      <td>user</td>\n",
              "      <td>string</td>\n",
              "    </tr>\n",
              "    <tr>\n",
              "      <th>3</th>\n",
              "      <td>news</td>\n",
              "      <td>string</td>\n",
              "    </tr>\n",
              "    <tr>\n",
              "      <th>4</th>\n",
              "      <td>event</td>\n",
              "      <td>string</td>\n",
              "    </tr>\n",
              "    <tr>\n",
              "      <th>5</th>\n",
              "      <td>source</td>\n",
              "      <td>string</td>\n",
              "    </tr>\n",
              "    <tr>\n",
              "      <th>6</th>\n",
              "      <td>model</td>\n",
              "      <td>string</td>\n",
              "    </tr>\n",
              "    <tr>\n",
              "      <th>7</th>\n",
              "      <td>timespent</td>\n",
              "      <td>float</td>\n",
              "    </tr>\n",
              "    <tr>\n",
              "      <th>8</th>\n",
              "      <td>eventdate</td>\n",
              "      <td>string</td>\n",
              "    </tr>\n",
              "  </tbody>\n",
              "</table>\n",
              "</div>"
            ],
            "text/plain": [
              "  Column Name Data type\n",
              "0      author    string\n",
              "1   timestamp    bigint\n",
              "2        user    string\n",
              "3        news    string\n",
              "4       event    string\n",
              "5      source    string\n",
              "6       model    string\n",
              "7   timespent     float\n",
              "8   eventdate    string"
            ]
          },
          "metadata": {},
          "execution_count": 35
        }
      ]
    },
    {
      "cell_type": "code",
      "metadata": {
        "colab": {
          "base_uri": "https://localhost:8080/",
          "height": 238
        },
        "id": "gajujW0QIBl1",
        "outputId": "17d6a191-37ca-447c-d8df-4909a68385ef"
      },
      "source": [
        "print('Data frame describe:')\n",
        "df.describe().toPandas()"
      ],
      "execution_count": 36,
      "outputs": [
        {
          "output_type": "stream",
          "name": "stdout",
          "text": [
            "Data frame describe (string and numeric columns only):\n"
          ]
        },
        {
          "output_type": "execute_result",
          "data": {
            "text/html": [
              "<div>\n",
              "<style scoped>\n",
              "    .dataframe tbody tr th:only-of-type {\n",
              "        vertical-align: middle;\n",
              "    }\n",
              "\n",
              "    .dataframe tbody tr th {\n",
              "        vertical-align: top;\n",
              "    }\n",
              "\n",
              "    .dataframe thead th {\n",
              "        text-align: right;\n",
              "    }\n",
              "</style>\n",
              "<table border=\"1\" class=\"dataframe\">\n",
              "  <thead>\n",
              "    <tr style=\"text-align: right;\">\n",
              "      <th></th>\n",
              "      <th>summary</th>\n",
              "      <th>author</th>\n",
              "      <th>timestamp</th>\n",
              "      <th>user</th>\n",
              "      <th>news</th>\n",
              "      <th>event</th>\n",
              "      <th>source</th>\n",
              "      <th>model</th>\n",
              "      <th>timespent</th>\n",
              "      <th>eventdate</th>\n",
              "    </tr>\n",
              "  </thead>\n",
              "  <tbody>\n",
              "    <tr>\n",
              "      <th>0</th>\n",
              "      <td>count</td>\n",
              "      <td>10870836</td>\n",
              "      <td>11039822</td>\n",
              "      <td>11039822</td>\n",
              "      <td>11039822</td>\n",
              "      <td>11039822</td>\n",
              "      <td>10870854</td>\n",
              "      <td>11039822</td>\n",
              "      <td>11039822</td>\n",
              "      <td>11039822</td>\n",
              "    </tr>\n",
              "    <tr>\n",
              "      <th>1</th>\n",
              "      <td>mean</td>\n",
              "      <td>None</td>\n",
              "      <td>1.6104477014813547E12</td>\n",
              "      <td>Infinity</td>\n",
              "      <td>Infinity</td>\n",
              "      <td>None</td>\n",
              "      <td>None</td>\n",
              "      <td>Infinity</td>\n",
              "      <td>15.813193783445763</td>\n",
              "      <td>None</td>\n",
              "    </tr>\n",
              "    <tr>\n",
              "      <th>2</th>\n",
              "      <td>stddev</td>\n",
              "      <td>None</td>\n",
              "      <td>4.1420234429519314E8</td>\n",
              "      <td>NaN</td>\n",
              "      <td>NaN</td>\n",
              "      <td>None</td>\n",
              "      <td>None</td>\n",
              "      <td>NaN</td>\n",
              "      <td>16.672127026686265</td>\n",
              "      <td>None</td>\n",
              "    </tr>\n",
              "    <tr>\n",
              "      <th>3</th>\n",
              "      <td>min</td>\n",
              "      <td>033e9e084df86185</td>\n",
              "      <td>1230740087161</td>\n",
              "      <td>00000ddf9b59ea7e</td>\n",
              "      <td>0002e42388eb0e95</td>\n",
              "      <td>TimeSpent-Back</td>\n",
              "      <td>016e96d11e2eb6e4</td>\n",
              "      <td>001ac13aa2b66db2</td>\n",
              "      <td>0.0</td>\n",
              "      <td>2008/12/31</td>\n",
              "    </tr>\n",
              "    <tr>\n",
              "      <th>4</th>\n",
              "      <td>max</td>\n",
              "      <td>feadbc41b9c20209</td>\n",
              "      <td>1639852788167</td>\n",
              "      <td>ffffeed21523023e</td>\n",
              "      <td>fffff27bb16f919f</td>\n",
              "      <td>Video Play Clicked</td>\n",
              "      <td>fee0a2920de62eb9</td>\n",
              "      <td>fff4ca8d3a83caa3</td>\n",
              "      <td>64.4</td>\n",
              "      <td>2021/12/18</td>\n",
              "    </tr>\n",
              "  </tbody>\n",
              "</table>\n",
              "</div>"
            ],
            "text/plain": [
              "  summary            author  ...           timespent   eventdate\n",
              "0   count          10870836  ...            11039822    11039822\n",
              "1    mean              None  ...  15.813193783445763        None\n",
              "2  stddev              None  ...  16.672127026686265        None\n",
              "3     min  033e9e084df86185  ...                 0.0  2008/12/31\n",
              "4     max  feadbc41b9c20209  ...                64.4  2021/12/18\n",
              "\n",
              "[5 rows x 10 columns]"
            ]
          },
          "metadata": {},
          "execution_count": 36
        }
      ]
    },
    {
      "cell_type": "code",
      "metadata": {
        "colab": {
          "base_uri": "https://localhost:8080/",
          "height": 80
        },
        "id": "v6VSHoegIZUU",
        "outputId": "4789d0c7-02bd-4468-ff6e-2cd306ad478f"
      },
      "source": [
        "#Finding count of missing values \n",
        "import pyspark\n",
        "import numpy as np\n",
        "from pyspark.rdd import RDD\n",
        "from pyspark.sql import Row\n",
        "from pyspark.sql import DataFrame\n",
        "from pyspark.sql import SparkSession\n",
        "from pyspark.sql import SQLContext\n",
        "from pyspark.sql import functions\n",
        "from pyspark.sql.functions import lit, desc, col, size, array_contains\\\n",
        ", isnan, udf, hour, array_min, array_max, countDistinct\n",
        "from pyspark.sql.types import *\n",
        "string_columns = ['author', 'user', 'news', 'event', 'source', 'model', 'eventdate']\n",
        "numeric_columns = ['timestamp', 'timespent']\n",
        "array_columns = []\n",
        "missing_values = {} \n",
        "for index, column in enumerate(df.columns):\n",
        "    if column in string_columns:    # check string columns with None and Null values\n",
        "        missing_count = df.filter(col(column).eqNullSafe(None) | col(column).isNull()).count()\n",
        "        missing_values.update({column:missing_count})\n",
        "    if column in numeric_columns:  # check zeroes, None, NaN\n",
        "        missing_count = df.where(col(column).isin([0,None,np.nan])).count()\n",
        "        missing_values.update({column:missing_count})\n",
        "    if column in array_columns:  # check zeros and NaN\n",
        "        missing_count = df.filter(array_contains(df[column], 0) | array_contains(df[column], np.nan)).count()\n",
        "        missing_values.update({column:missing_count})\n",
        "missing_df = pd.DataFrame.from_dict([missing_values])\n",
        "missing_df"
      ],
      "execution_count": 43,
      "outputs": [
        {
          "output_type": "execute_result",
          "data": {
            "text/html": [
              "<div>\n",
              "<style scoped>\n",
              "    .dataframe tbody tr th:only-of-type {\n",
              "        vertical-align: middle;\n",
              "    }\n",
              "\n",
              "    .dataframe tbody tr th {\n",
              "        vertical-align: top;\n",
              "    }\n",
              "\n",
              "    .dataframe thead th {\n",
              "        text-align: right;\n",
              "    }\n",
              "</style>\n",
              "<table border=\"1\" class=\"dataframe\">\n",
              "  <thead>\n",
              "    <tr style=\"text-align: right;\">\n",
              "      <th></th>\n",
              "      <th>author</th>\n",
              "      <th>timestamp</th>\n",
              "      <th>user</th>\n",
              "      <th>news</th>\n",
              "      <th>event</th>\n",
              "      <th>source</th>\n",
              "      <th>model</th>\n",
              "      <th>timespent</th>\n",
              "      <th>eventdate</th>\n",
              "    </tr>\n",
              "  </thead>\n",
              "  <tbody>\n",
              "    <tr>\n",
              "      <th>0</th>\n",
              "      <td>168986</td>\n",
              "      <td>0</td>\n",
              "      <td>0</td>\n",
              "      <td>0</td>\n",
              "      <td>0</td>\n",
              "      <td>168968</td>\n",
              "      <td>0</td>\n",
              "      <td>194</td>\n",
              "      <td>0</td>\n",
              "    </tr>\n",
              "  </tbody>\n",
              "</table>\n",
              "</div>"
            ],
            "text/plain": [
              "   author  timestamp  user  news  event  source  model  timespent  eventdate\n",
              "0  168986          0     0     0      0  168968      0        194          0"
            ]
          },
          "metadata": {},
          "execution_count": 43
        }
      ]
    },
    {
      "cell_type": "code",
      "metadata": {
        "id": "5qC6RDfUKGqY"
      },
      "source": [
        "#top 20 trending news\n",
        "trending_news=sqlContext.sql(\"select news,count(*) as viewCount from news group by 1 order by 2 desc limit 20\")"
      ],
      "execution_count": 74,
      "outputs": []
    },
    {
      "cell_type": "code",
      "metadata": {
        "id": "PgGobnwjNspJ"
      },
      "source": [
        "#total number of count per event_date\n",
        "newsCount=sqlContext.sql(\"select eventdate,count(*) from news group by 1 order by 2 desc\")"
      ],
      "execution_count": 76,
      "outputs": []
    },
    {
      "cell_type": "code",
      "metadata": {
        "id": "8NAml_xNTFPm"
      },
      "source": [
        "#top 20 active user\n",
        "mostActiveuser=sqlContext.sql(\"select user,sum(timespent) from news group by 1 order by 2 desc limit 20\")"
      ],
      "execution_count": 78,
      "outputs": []
    },
    {
      "cell_type": "code",
      "metadata": {
        "id": "0v4Vk_VhiGYJ"
      },
      "source": [
        "#converting pandas df to plot histogram\n",
        "pdf_newsCount=newsCount.toPandas()\n",
        "pdf_trending_news=trending_news.toPandas()\n",
        "pdf_mostActiveuser=mostActiveuser.toPandas()\n",
        "display(pdf_newsCount.loc[2])"
      ],
      "execution_count": null,
      "outputs": []
    },
    {
      "cell_type": "code",
      "metadata": {
        "id": "_cmV98v6QtiN"
      },
      "source": [
        "pdf_newsCount.plot(kind='bar',x='news',y='count(1)',colormap='plasma')\n",
        "pdf_trending_news.plot(kind='pie',x='news',y='count(1)',colormap='plasma')\n",
        "pdf_mostActiveuser.plot(kind='barh',x='news',y='count(1)',colormap='plasma')\n"
      ],
      "execution_count": null,
      "outputs": []
    }
  ]
}
